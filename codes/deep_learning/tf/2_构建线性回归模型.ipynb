{
 "cells": [
  {
   "cell_type": "markdown",
   "metadata": {},
   "source": [
    "\n",
    "### 一个线性回归模型\n"
   ]
  },
  {
   "cell_type": "code",
   "execution_count": 2,
   "metadata": {},
   "outputs": [],
   "source": [
    "import tensorflow as tf\n",
    "import numpy as np"
   ]
  },
  {
   "cell_type": "markdown",
   "metadata": {},
   "source": [
    "#### 生成随机数据"
   ]
  },
  {
   "cell_type": "code",
   "execution_count": 3,
   "metadata": {},
   "outputs": [],
   "source": [
    "# 使用numpy 生成100个随机点\n",
    "x_data = np.random.rand(100)\n",
    "y_data = x_data * 0.1 + 0.2\n",
    "# print(\"y_data = \", y_data)\n",
    "\n",
    "# x_data 是0-1之间的随机数\n",
    "# print(\"x_data = \", x_data)"
   ]
  },
  {
   "cell_type": "markdown",
   "metadata": {},
   "source": [
    "#### 构造线性模型\n",
    "\n",
    "训练得到参数 k 与 b ； 定义损失函数为mse； 采用梯度下降法训练"
   ]
  },
  {
   "cell_type": "code",
   "execution_count": 4,
   "metadata": {},
   "outputs": [],
   "source": [
    "# 构造一个线性模型, y=kx+b, 其中k和b都是变量，赋初值为0\n",
    "b = tf.Variable(0.)\n",
    "k = tf.Variable(0.)\n",
    "\n",
    "y = k * x_data + b\n",
    "\n",
    "loss = tf.reduce_mean(tf.square(y_data - y))\n",
    "\n",
    "# 定义一个用梯度下降法来训练的优化器, 学习率为0.2, 通过梯度下降法确定参数k和b\n",
    "optimizer = tf.train.GradientDescentOptimizer(0.2)\n",
    "\n",
    "# 训练的目的是为了最小化代价函数,使用这个优化器的目标函数是最小化loss\n",
    "train = optimizer.minimize(loss)"
   ]
  },
  {
   "cell_type": "markdown",
   "metadata": {},
   "source": [
    "开始训练，每两百轮打印输出一次k和b"
   ]
  },
  {
   "cell_type": "code",
   "execution_count": 5,
   "metadata": {},
   "outputs": [
    {
     "name": "stdout",
     "output_type": "stream",
     "text": [
      "(0, [0.0499386, 0.0989418])\n",
      "(200, [0.10000501, 0.19999747])\n",
      "(400, [0.10000021, 0.19999988])\n",
      "(600, [0.10000021, 0.19999988])\n",
      "(800, [0.10000021, 0.19999988])\n",
      "(1000, [0.10000021, 0.19999988])\n",
      "(1200, [0.10000021, 0.19999988])\n",
      "(1400, [0.10000021, 0.19999988])\n",
      "(1600, [0.10000021, 0.19999988])\n",
      "(1800, [0.10000021, 0.19999988])\n",
      "(2000, [0.10000021, 0.19999988])\n",
      "(2200, [0.10000021, 0.19999988])\n"
     ]
    }
   ],
   "source": [
    "# 初始化所有的变量\n",
    "init = tf.global_variables_initializer()\n",
    "\n",
    "# 通过会话来运行\n",
    "with tf.Session() as sess:\n",
    "    sess.run(init)\n",
    "    for step in range(2201):\n",
    "        sess.run(train)\n",
    "        if step % 200 == 0:\n",
    "            print(step, sess.run([k, b]))"
   ]
  },
  {
   "cell_type": "code",
   "execution_count": null,
   "metadata": {},
   "outputs": [],
   "source": []
  }
 ],
 "metadata": {
  "kernelspec": {
   "display_name": "Python 3",
   "language": "python",
   "name": "python3"
  },
  "language_info": {
   "codemirror_mode": {
    "name": "ipython",
    "version": 2
   },
   "file_extension": ".py",
   "mimetype": "text/x-python",
   "name": "python",
   "nbconvert_exporter": "python",
   "pygments_lexer": "ipython2",
   "version": "2.7.15"
  }
 },
 "nbformat": 4,
 "nbformat_minor": 2
}
