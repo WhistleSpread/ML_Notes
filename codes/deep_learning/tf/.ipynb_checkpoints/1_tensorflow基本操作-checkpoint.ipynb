{
 "cells": [
  {
   "cell_type": "markdown",
   "metadata": {},
   "source": [
    "\n",
    "1. 在tensorflow中，使用张量 tensor来表示多维数组(列表)\n",
    "2. 一阶张量就是标量，二阶张量是向量，三阶张量是矩阵\n",
    "3. 介绍了张量的定义\n",
    "4. 会话的使用\n",
    "5. 常量与变量的定义与使用\n",
    "6. fetch and feed 的使用 placeholder\n",
    "\n",
    "\n",
    "使用Graph来计算任务\n",
    "在被称为会话Session的上下文context中执行图\n",
    "使用tensor来表示数据\n",
    "通过变量Variable维护状态\n",
    "使用feed和fetch可以为任意操作赋值或者从其中获取数据\n",
    "\n",
    "Tensorflow是一个编程系统，使用graphs来表示计算任务，graphs中的节点称为operation，一个op获得0个或者多个Tensor,执行计算，\n",
    "产生0个或者多个Tensor,Tensor 看作是一个n维的数组或者是列表，图必须在会话Session里被启动\n"
   ]
  },
  {
   "cell_type": "code",
   "execution_count": 3,
   "metadata": {},
   "outputs": [],
   "source": [
    "import tensorflow as tf"
   ]
  },
  {
   "cell_type": "code",
   "execution_count": 28,
   "metadata": {},
   "outputs": [
    {
     "name": "stdout",
     "output_type": "stream",
     "text": [
      "Tensor(\"MatMul_4:0\", shape=(1, 1), dtype=int32)\n"
     ]
    }
   ],
   "source": [
    "# tf里定义数组和numpy非常像\n",
    "\n",
    "# 定义一个一行两列\n",
    "m1 = tf.constant([[3, 3]])\n",
    "\n",
    "# 定义一个两行一列\n",
    "m2 = tf.constant([[2], [3]])\n",
    "product = tf.matmul(m1, m2)\n",
    "\n",
    "# 这样不会打印处结果，必须调用session 才能打印结果，上面的三个操作都并没有被执行\n",
    "print(product)\n",
    "\n",
    "\"\"\"\n",
    "打印输出结果 : Tensor(\"MatMul_4:0\", shape=(1, 1), dtype=int32)\n",
    "MatMul_4 : 节点名;\n",
    "0 : 第0个输出\n",
    "shape : 维度\n",
    "(1, 1) : 1行1列的矩阵\n",
    "dtype : 数据类型 ：tensorflow 的数据类型：tf.float32, tf.int32 ...\n",
    "\"\"\"\n"
   ]
  },
  {
   "cell_type": "markdown",
   "metadata": {},
   "source": [
    "#### Session 操作"
   ]
  },
  {
   "cell_type": "code",
   "execution_count": 52,
   "metadata": {},
   "outputs": [],
   "source": [
    "# 定义一个会话，启动默认的图\n",
    "# 这句话才执行了上面的三个operation\n",
    "# 如果想要得到运算结果，就要用到会话Session,  会话(Session)：执行计算图中的节点运算\n",
    "\n",
    "sess = tf.Session()\n",
    "result = sess.run(product)\n",
    "# print(result)\n",
    "\n",
    "# 记得关闭会话\n",
    "sess.close()\n",
    "\n",
    "# 如果使用 with as 就不需要手动关闭sess.close()\n",
    "with tf.Session() as sess:\n",
    "    result = sess.run(product)\n",
    "#     print(result)"
   ]
  },
  {
   "cell_type": "markdown",
   "metadata": {},
   "source": [
    "#### 常量与变量"
   ]
  },
  {
   "cell_type": "code",
   "execution_count": 48,
   "metadata": {},
   "outputs": [],
   "source": [
    "# tensorflow中的变量与常量\n",
    "x = tf.Variable([2, 3])\n",
    "a = tf.constant([3, 3])\n",
    "\n",
    "\n",
    "# 在这里看来，变量和placeholder 的作用是一样的\n",
    "sub = tf.subtract(x, a)\n",
    "add = tf.add(x, sub)\n",
    "\n",
    "\n",
    "# 在tensorflow中所有变量如果要使用的话，必须要先初始化,初始化变量\n",
    "init = tf.global_variables_initializer()\n",
    "\n",
    "\n",
    "with tf.Session() as sess:\n",
    "    # run 一下 init\n",
    "    sess.run(init)\n",
    "#     print(sess.run(sub))\n",
    "#     print(sess.run(add))\n"
   ]
  },
  {
   "cell_type": "markdown",
   "metadata": {},
   "source": [
    "#### 变量的命名与初始化"
   ]
  },
  {
   "cell_type": "code",
   "execution_count": 50,
   "metadata": {},
   "outputs": [],
   "source": [
    "# 对一个变量，还可以命名，还可以定义初始值\n",
    "state = tf.Variable(0, name = 'counter')\n",
    "# 给state这个变量加1\n",
    "new_value = tf.add(state, 1)\n",
    "\n",
    "# 在tensorflow中，给一个变量赋值不能直接用等号来赋值，需要调用assign的方法\n",
    "update_val = tf.assign(state, new_value)\n",
    "\n",
    "init = tf.global_variables_initializer()\n",
    "with tf.Session() as sess:\n",
    "    # run 一下 inits\n",
    "    sess.run(init)\n",
    "#     print(sess.run(state))\n",
    "    \n",
    "    for _ in range(5):\n",
    "        sess.run(update)\n",
    "#         print(sess.run(state))"
   ]
  },
  {
   "cell_type": "markdown",
   "metadata": {},
   "source": [
    "#### fetch 在会话中同时运行多个op"
   ]
  },
  {
   "cell_type": "code",
   "execution_count": 49,
   "metadata": {},
   "outputs": [],
   "source": [
    "# fetch 可以在会话中同时运行多个op\n",
    "input1 = tf.constant(3.0)\n",
    "input2 = tf.constant(2.0)\n",
    "input3 = tf.constant(5.0)\n",
    "\n",
    "add = tf.add(input2, input3)\n",
    "mul = tf.multiply(input1, add)\n",
    "\n",
    "with tf.Session() as sess:\n",
    "    result = sess.run([mul, add])\n",
    "#     print(result)\n",
    "    "
   ]
  },
  {
   "cell_type": "markdown",
   "metadata": {},
   "source": [
    "#### Feed 传入数据"
   ]
  },
  {
   "cell_type": "code",
   "execution_count": null,
   "metadata": {},
   "outputs": [],
   "source": [
    "# Feed, 思考placeholder和Variable 的区别\n",
    "# 占位符 placeholder(),传入的是数据类型\n",
    "\n",
    "input1 = tf.placeholder(tf.float32)\n",
    "input2 = tf.placeholder(tf.float32)\n",
    "\n",
    "# 这个时候只是占一个位置，只有在运行的时候才传入值，也就是定义了一个运算，可是数字还是不确定的\n",
    "# 在这里，placeholder 和 variable 的用法貌似是一样的，只是在run的时候，变量是直接传入的\n",
    "# 可是placeholder则是feed_dict进入的\n",
    "\n",
    "output = tf.multiply(input1, input2)\n",
    "\n",
    "#在运行的时候传入值，值的形式是python dict 的形式\n",
    "with tf.Session() as sess:\n",
    "    # feed 的数据以字典的形式传入\n",
    "    print(sess.run(output, feed_dict={input1:[7.0], input2:[2.0]}))\n",
    "\n",
    "\n",
    "# 用tf.placeholder占位，在sess.run函数中用feed_dict喂数据\n",
    "# 一次喂一组数据\n",
    "y = tf.add(input1, input2)\n",
    "x = tf.placeholder(tf.float32, shape=(1, 2))\n",
    "sess.run(y, feed_dict={x:[[0.5, 0.6]]})\n",
    "\n",
    "# 一次喂多组数据\n",
    "x = tf.placeholder(tf.float32, shape=(None, 2))\n",
    "sess.run(y, feed_dict={x:[[0.1, 0.2],[0.3, 0.4],[0.4, 0.5],[0.5, 0.6]]})\n"
   ]
  }
 ],
 "metadata": {
  "kernelspec": {
   "display_name": "Python 3",
   "language": "python",
   "name": "python3"
  },
  "language_info": {
   "codemirror_mode": {
    "name": "ipython",
    "version": 2
   },
   "file_extension": ".py",
   "mimetype": "text/x-python",
   "name": "python",
   "nbconvert_exporter": "python",
   "pygments_lexer": "ipython2",
   "version": "2.7.15"
  }
 },
 "nbformat": 4,
 "nbformat_minor": 2
}
