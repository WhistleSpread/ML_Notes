{
 "cells": [
  {
   "cell_type": "code",
   "execution_count": 12,
   "metadata": {},
   "outputs": [
    {
     "name": "stdout",
     "output_type": "stream",
     "text": [
      "Extracting MNIST_data/train-images-idx3-ubyte.gz\n",
      "Extracting MNIST_data/train-labels-idx1-ubyte.gz\n",
      "Extracting MNIST_data/t10k-images-idx3-ubyte.gz\n",
      "Extracting MNIST_data/t10k-labels-idx1-ubyte.gz\n"
     ]
    }
   ],
   "source": [
    "import tensorflow as tf\n",
    "from tensorflow.examples.tutorials import input_data\n",
    "import numpy as np\n",
    "\n",
    "mnist = input_data.read_data_sets(\"MNIST_data\", one_hot=True)"
   ]
  },
  {
   "cell_type": "code",
   "execution_count": 18,
   "metadata": {},
   "outputs": [
    {
     "name": "stdout",
     "output_type": "stream",
     "text": [
      "('Iter', '0', 'Testing Accuracy = ', '0.8997')\n",
      "('Iter', '1', 'Testing Accuracy = ', '0.908')\n",
      "('Iter', '2', 'Testing Accuracy = ', '0.9124')\n",
      "('Iter', '3', 'Testing Accuracy = ', '0.9155')\n",
      "('Iter', '4', 'Testing Accuracy = ', '0.9187')\n",
      "('Iter', '5', 'Testing Accuracy = ', '0.9192')\n",
      "('Iter', '6', 'Testing Accuracy = ', '0.9192')\n",
      "('Iter', '7', 'Testing Accuracy = ', '0.9198')\n",
      "('Iter', '8', 'Testing Accuracy = ', '0.9215')\n",
      "('Iter', '9', 'Testing Accuracy = ', '0.9226')\n",
      "('Iter', '10', 'Testing Accuracy = ', '0.922')\n",
      "('Iter', '11', 'Testing Accuracy = ', '0.9222')\n",
      "('Iter', '12', 'Testing Accuracy = ', '0.9214')\n",
      "('Iter', '13', 'Testing Accuracy = ', '0.9226')\n",
      "('Iter', '14', 'Testing Accuracy = ', '0.9227')\n",
      "('Iter', '15', 'Testing Accuracy = ', '0.9224')\n",
      "('Iter', '16', 'Testing Accuracy = ', '0.9232')\n",
      "('Iter', '17', 'Testing Accuracy = ', '0.9233')\n",
      "('Iter', '18', 'Testing Accuracy = ', '0.9234')\n",
      "('Iter', '19', 'Testing Accuracy = ', '0.9231')\n",
      "('Iter', '20', 'Testing Accuracy = ', '0.9235')\n"
     ]
    }
   ],
   "source": [
    "batch_size = 100\n",
    "\n",
    "n_batch = mnist.train.num_examples // batch_size\n",
    "\n",
    "x = tf.placeholder(tf.float32, [None, 784])\n",
    "y = tf.placeholder(tf.float32, [None, 10])\n",
    "\n",
    "# 创建一个简单的神经网络，只有输入层和有输出层， 没有隐藏层；\n",
    "\n",
    "W = tf.Variable(tf.zeros([784, 10]))\n",
    "b = tf.Variable(tf.zeros([10]))\n",
    "prediction = tf.nn.softmax(tf.matmul(x, W) + b)\n",
    "\n",
    "# 对于权值的初始化，我们一般使用的是截断的正态分布truncated_normal,标准差为0.1\n",
    "# W = tf.Variable(tf.truncated_normal([784, 10], stddev=0.1))\n",
    "# # 偏置值初始化为0.1\n",
    "# b = tf.Variable(tf.zeros([10])+0.1)\n",
    "# prediction = tf.nn.softmax(tf.matmul(x, W) + b)\n",
    "\n",
    "# 损失函数不再使用二次代价函数，而是使用交叉熵，在这里，我们使用与softmax搭配使用的交叉熵\n",
    "loss = tf.reduce_mean(tf.nn.softmax_cross_entropy_with_logits(labels = y, logits = tf.matmul(x, W) + b))\n",
    "\n",
    "train_step = tf.train.GradientDescentOptimizer(0.1).minimize(loss)\n",
    "\n",
    "init = tf.global_variables_initializer()\n",
    "correct_prediction = tf.equal(tf.argmax(y, 1), tf.argmax(prediction, 1))\n",
    "\n",
    "accuracy = tf.reduce_mean(tf.cast(correct_prediction, tf.float32))\n",
    "\n",
    "with tf.Session() as sess:\n",
    "    sess.run(init)\n",
    "    for epoch in range(21):\n",
    "        for batch in range(n_batch):\n",
    "            batch_xs, batch_ys = mnist.train.next_batch(batch_size)\n",
    "            sess.run(train_step, feed_dict={x:batch_xs, y:batch_ys})\n",
    "            \n",
    "        acc = sess.run(accuracy, feed_dict={x:mnist.test.images, y:mnist.test.labels})\n",
    "        print(\"Iter\", str(epoch), \"Testing Accuracy = \", str(acc))\n"
   ]
  },
  {
   "cell_type": "code",
   "execution_count": null,
   "metadata": {},
   "outputs": [],
   "source": []
  }
 ],
 "metadata": {
  "kernelspec": {
   "display_name": "Python 3",
   "language": "python",
   "name": "python3"
  },
  "language_info": {
   "codemirror_mode": {
    "name": "ipython",
    "version": 2
   },
   "file_extension": ".py",
   "mimetype": "text/x-python",
   "name": "python",
   "nbconvert_exporter": "python",
   "pygments_lexer": "ipython2",
   "version": "2.7.15"
  }
 },
 "nbformat": 4,
 "nbformat_minor": 2
}
