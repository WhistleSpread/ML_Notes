{
 "cells": [
  {
   "cell_type": "markdown",
   "metadata": {},
   "source": [
    "### 生成数据集 generateds.py"
   ]
  },
  {
   "cell_type": "code",
   "execution_count": 1,
   "metadata": {},
   "outputs": [],
   "source": [
    "import numpy as np\n",
    "import matplotlib.pyplot as plt\n",
    "\n",
    "seed = 2\n",
    "def generateds():\n",
    "    # 基于seed产生随机数\n",
    "    rdm = np.random.RandomState(seed)\n",
    "\n",
    "    # 随机数返回300行2列的矩阵，表示300组坐标点(x0, x1)作为输入数据集\n",
    "    X = rdm.random(300, 2)\n",
    "\n",
    "    # 从X这个300行2列的矩阵中取出一行，判断如果两个坐标的平方和小于2，给y赋值1，其余赋值0，作为输入数据集标签\n",
    "    Y_ = [int(x0*x0 + x1*x1 < 2) for (x0, x1) in X]\n",
    "\n",
    "    # 遍历Y中的每个元素，1 赋值为'red', 其余赋值为‘'blue', 便于可视化显示\n",
    "    Y_c = [['red' if y else 'blue'] for y in Y_]\n",
    "\n",
    "    # 对数据集X和标签Y进行形状整理，第一个元素为-1表示根据最后列计算，第二个元素表示多少列，可见X为2列，Y为1列\n",
    "    X = np.vstack(X).reshape(-1, 2)\n",
    "    Y_ = np.vstack(Y_).reshape(-1, 1)\n",
    "\n",
    "    return X, Y_, Y_c\n"
   ]
  },
  {
   "cell_type": "markdown",
   "metadata": {},
   "source": [
    "### 前向传播 forward.py"
   ]
  },
  {
   "cell_type": "code",
   "execution_count": 7,
   "metadata": {},
   "outputs": [],
   "source": [
    "import tensorflow as tf\n",
    "\n",
    "# 定义神经网络的输入、参数和输出，定义前向传播过程\n",
    "def get_weight(shape, regularizer):\n",
    "    w = tf.Variable(tf.random_normal(shape), dtype=tf.float32)\n",
    "    tf.add_to_collection('losses', tf.contrib.layers.l2_regularizer(regularizer)(w))\n",
    "    return w\n",
    "\n",
    "def get_bias(shape):\n",
    "    b = tf.Variable(tf.constant(0.01, shape=shape))\n",
    "    return b\n",
    "\n",
    "def forward(x, regularizer):\n",
    "    \n",
    "    w1 = get_weight([2, 11], regularizer)\n",
    "    b1 = get_bias([11])\n",
    "    y1 = tf.nn.relu(tf.matmul(x, w1) + b1)\n",
    "\n",
    "    w2 = get_weight([11, 1], regularizer)\n",
    "    b2 = get_bias([1])\n",
    "    y = tf.matmul(y1, w2) + b2\t\t# 输出层不过激活\n",
    "    \n",
    "    return y"
   ]
  },
  {
   "cell_type": "markdown",
   "metadata": {},
   "source": [
    "### 反向传播 backward.py"
   ]
  },
  {
   "cell_type": "code",
   "execution_count": 10,
   "metadata": {},
   "outputs": [],
   "source": [
    "import tensorflow as tf\n",
    "import numpy as np\n",
    "import matplotlib.pyplot as plt\n",
    "# import generate\n",
    "# import forward\n",
    "\n",
    "# 定义超参数\n",
    "STEPS = 40000\n",
    "BATCH_SIZE = 30\n",
    "LEARNING_RATE_BASE = 0.001\n",
    "LEARNING_RATE_DECAY = 0.999\n",
    "REGULARIZER = 0.01\n",
    "\n",
    "def backward():\n",
    "    x = tf.placeholder(tf.float32, shape=(None, 2))\n",
    "    y_ = tf.placeholder(tf.float32, shape=(None, 1))\n",
    "\n",
    "    X, Y_, Y_c = generateds()\n",
    "\n",
    "    y = forward(x, REGULARIZER)\n",
    "\n",
    "    global_step = tf.Variable(0, trainable=False)\n",
    "\n",
    "    learning_rate = tf.train.exponential_decay(\tLEARNING_RATE_BASE, global_step, 300/BATCH_SIZE, LEARNING_RATE_DECAY, staircase=True)\n",
    "\n",
    "    # 定义损失函数\n",
    "    loss_mse = tf.reduce_mean(tf.square(y - y_))\n",
    "    loss_total = loss_mse + tf.add_n(tf.get_collection('losses'))\n",
    "\n",
    "    # 定义反向传播方法，包括正则化\n",
    "    train_step = tf.train.AdamOptimizer(learning_rate).minimize(loss_total)\n",
    "\n",
    "    with tf.Session() as sess:\n",
    "        init_op = tf.global_variables_initializer()\n",
    "        sess.run(init_op)\n",
    "    for i in range(STEPS):\n",
    "        start = (i*BATCH_SIZE) % 300\n",
    "        end = start + BATCH_SIZE\n",
    "        sess.run(train_step, feed_dict={x: X[start:end], y_:Y_[start:end]})\n",
    "        if i % 2000 == 0:\n",
    "            loss_v = sess.run(loss_total, feed_dict={x:X, y_:Y_})\n",
    "            print(\"After %d steps, loss is: %f\" %(i, loss_v))\n",
    "  \n",
    "    # 在-3到3之间以0.01为间距生成网格坐标，组成xx,yy坐标集\n",
    "    xx, yy = np.mgrid[-3:3:0.01, -3:3:0.01]\n",
    "    grid = np.c_[xx.ravel(), yy.ravel()]\n",
    "    probs = sess.run(y, feed_dict={x:grid})\n",
    "    probs = probs.reshape(xx.shape)\n",
    "  \n",
    "    plt.scatter(X[:, 0], X[:, 1], c=np.squeeze(Y_c))\n",
    "    plt.contour(xx, yy, probs, levels=[.5])\n",
    "    plt.show()"
   ]
  },
  {
   "cell_type": "code",
   "execution_count": 11,
   "metadata": {},
   "outputs": [
    {
     "ename": "AttributeError",
     "evalue": "'mtrand.RandomState' object has no attribute 'random'",
     "output_type": "error",
     "traceback": [
      "\u001b[0;31m---------------------------------------------------------------------------\u001b[0m",
      "\u001b[0;31mAttributeError\u001b[0m                            Traceback (most recent call last)",
      "\u001b[0;32m<ipython-input-11-88f37c7e3e3c>\u001b[0m in \u001b[0;36m<module>\u001b[0;34m()\u001b[0m\n\u001b[1;32m      1\u001b[0m \u001b[0;32mif\u001b[0m \u001b[0m__name__\u001b[0m \u001b[0;34m==\u001b[0m \u001b[0;34m'__main__'\u001b[0m\u001b[0;34m:\u001b[0m\u001b[0;34m\u001b[0m\u001b[0m\n\u001b[0;32m----> 2\u001b[0;31m     \u001b[0mbackward\u001b[0m\u001b[0;34m(\u001b[0m\u001b[0;34m)\u001b[0m\u001b[0;34m\u001b[0m\u001b[0m\n\u001b[0m",
      "\u001b[0;32m<ipython-input-10-6fb944bbc0f3>\u001b[0m in \u001b[0;36mbackward\u001b[0;34m()\u001b[0m\n\u001b[1;32m     18\u001b[0m     \u001b[0my_\u001b[0m \u001b[0;34m=\u001b[0m \u001b[0mtf\u001b[0m\u001b[0;34m.\u001b[0m\u001b[0mplaceholder\u001b[0m\u001b[0;34m(\u001b[0m\u001b[0mtf\u001b[0m\u001b[0;34m.\u001b[0m\u001b[0mfloat32\u001b[0m\u001b[0;34m,\u001b[0m \u001b[0mshape\u001b[0m\u001b[0;34m=\u001b[0m\u001b[0;34m(\u001b[0m\u001b[0mNone\u001b[0m\u001b[0;34m,\u001b[0m \u001b[0;36m1\u001b[0m\u001b[0;34m)\u001b[0m\u001b[0;34m)\u001b[0m\u001b[0;34m\u001b[0m\u001b[0m\n\u001b[1;32m     19\u001b[0m \u001b[0;34m\u001b[0m\u001b[0m\n\u001b[0;32m---> 20\u001b[0;31m     \u001b[0mX\u001b[0m\u001b[0;34m,\u001b[0m \u001b[0mY_\u001b[0m\u001b[0;34m,\u001b[0m \u001b[0mY_c\u001b[0m \u001b[0;34m=\u001b[0m \u001b[0mgenerateds\u001b[0m\u001b[0;34m(\u001b[0m\u001b[0;34m)\u001b[0m\u001b[0;34m\u001b[0m\u001b[0m\n\u001b[0m\u001b[1;32m     21\u001b[0m \u001b[0;34m\u001b[0m\u001b[0m\n\u001b[1;32m     22\u001b[0m     \u001b[0my\u001b[0m \u001b[0;34m=\u001b[0m \u001b[0mforward\u001b[0m\u001b[0;34m(\u001b[0m\u001b[0mx\u001b[0m\u001b[0;34m,\u001b[0m \u001b[0mREGULARIZER\u001b[0m\u001b[0;34m)\u001b[0m\u001b[0;34m\u001b[0m\u001b[0m\n",
      "\u001b[0;32m<ipython-input-6-3aba7e1b880b>\u001b[0m in \u001b[0;36mgenerateds\u001b[0;34m()\u001b[0m\n\u001b[1;32m     10\u001b[0m \u001b[0;34m\u001b[0m\u001b[0m\n\u001b[1;32m     11\u001b[0m     \u001b[0;31m# 随机数返回300行2列的矩阵，表示300组坐标点(x0, x1)作为输入数据集\u001b[0m\u001b[0;34m\u001b[0m\u001b[0;34m\u001b[0m\u001b[0m\n\u001b[0;32m---> 12\u001b[0;31m     \u001b[0mX\u001b[0m \u001b[0;34m=\u001b[0m \u001b[0mrdm\u001b[0m\u001b[0;34m.\u001b[0m\u001b[0mrandom\u001b[0m\u001b[0;34m(\u001b[0m\u001b[0;36m300\u001b[0m\u001b[0;34m,\u001b[0m \u001b[0;36m2\u001b[0m\u001b[0;34m)\u001b[0m\u001b[0;34m\u001b[0m\u001b[0m\n\u001b[0m\u001b[1;32m     13\u001b[0m \u001b[0;34m\u001b[0m\u001b[0m\n\u001b[1;32m     14\u001b[0m     \u001b[0;31m# 从X这个300行2列的矩阵中取出一行，判断如果两个坐标的平方和小于2，给y赋值1，其余赋值0，作为输入数据集标签\u001b[0m\u001b[0;34m\u001b[0m\u001b[0;34m\u001b[0m\u001b[0m\n",
      "\u001b[0;31mAttributeError\u001b[0m: 'mtrand.RandomState' object has no attribute 'random'"
     ]
    }
   ],
   "source": [
    "if __name__ == '__main__':\n",
    "    backward()"
   ]
  },
  {
   "cell_type": "code",
   "execution_count": null,
   "metadata": {},
   "outputs": [],
   "source": []
  }
 ],
 "metadata": {
  "kernelspec": {
   "display_name": "Python 3",
   "language": "python",
   "name": "python3"
  },
  "language_info": {
   "codemirror_mode": {
    "name": "ipython",
    "version": 2
   },
   "file_extension": ".py",
   "mimetype": "text/x-python",
   "name": "python",
   "nbconvert_exporter": "python",
   "pygments_lexer": "ipython2",
   "version": "2.7.15"
  }
 },
 "nbformat": 4,
 "nbformat_minor": 2
}
